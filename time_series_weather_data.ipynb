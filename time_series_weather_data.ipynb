{
  "nbformat": 4,
  "nbformat_minor": 0,
  "metadata": {
    "colab": {
      "name": "time_series_weather_data.ipynb",
      "provenance": [],
      "authorship_tag": "ABX9TyOOLn1EokicmdpocfCbmtVN",
      "include_colab_link": true
    },
    "kernelspec": {
      "name": "python3",
      "display_name": "Python 3"
    },
    "language_info": {
      "name": "python"
    }
  },
  "cells": [
    {
      "cell_type": "markdown",
      "metadata": {
        "id": "view-in-github",
        "colab_type": "text"
      },
      "source": [
        "<a href=\"https://colab.research.google.com/github/Devi-Prasad-G/Timeseries_data_problems/blob/main/time_series_weather_data.ipynb\" target=\"_parent\"><img src=\"https://colab.research.google.com/assets/colab-badge.svg\" alt=\"Open In Colab\"/></a>"
      ]
    },
    {
      "cell_type": "code",
      "execution_count": 1,
      "metadata": {
        "id": "N3G2flCBe-5A"
      },
      "outputs": [],
      "source": [
        "import pandas as pd\n",
        "import matplotlib.pyplot as plt\n",
        "import tensorflow as tf\n",
        "from tensorflow import keras"
      ]
    },
    {
      "cell_type": "code",
      "source": [
        "titles = [\n",
        "    \"Pressure\",\n",
        "    \"Temperature\",\n",
        "    \"Temperature in Kelvin\",\n",
        "    \"Temperature (dew point)\",\n",
        "    \"Relative Humidity\",\n",
        "    \"Saturation vapor pressure\",\n",
        "    \"Vapor pressure\",\n",
        "    \"Vapor pressure deficit\",\n",
        "    \"Specific humidity\",\n",
        "    \"Water vapor concentration\",\n",
        "    \"Airtight\",\n",
        "    \"Wind speed\",\n",
        "    \"Maximum wind speed\",\n",
        "    \"Wind direction in degrees\",\n",
        "]\n",
        "\n",
        "feature_keys = [\n",
        "    \"p (mbar)\",\n",
        "    \"T (degC)\",\n",
        "    \"Tpot (K)\",\n",
        "    \"Tdew (degC)\",\n",
        "    \"rh (%)\",\n",
        "    \"VPmax (mbar)\",\n",
        "    \"VPact (mbar)\",\n",
        "    \"VPdef (mbar)\",\n",
        "    \"sh (g/kg)\",\n",
        "    \"H2OC (mmol/mol)\",\n",
        "    \"rho (g/m**3)\",\n",
        "    \"wv (m/s)\",\n",
        "    \"max. wv (m/s)\",\n",
        "    \"wd (deg)\",\n",
        "]\n",
        "\n",
        "colors = [\n",
        "    \"blue\",\n",
        "    \"orange\",\n",
        "    \"green\",\n",
        "    \"red\",\n",
        "    \"purple\",\n",
        "    \"brown\",\n",
        "    \"pink\",\n",
        "    \"gray\",\n",
        "    \"olive\",\n",
        "    \"cyan\",\n",
        "]\n",
        "\n",
        "date_time_key = \"Date Time\""
      ],
      "metadata": {
        "id": "QFaVhyOohL_u"
      },
      "execution_count": 6,
      "outputs": []
    },
    {
      "cell_type": "code",
      "source": [
        "from zipfile import ZipFile\n",
        "import os\n",
        "\n",
        "uri = \"https://storage.googleapis.com/tensorflow/tf-keras-datasets/jena_climate_2009_2016.csv.zip\"\n",
        "zip_path = keras.utils.get_file(origin=uri, fname=\"jena_climate_2009_2016.csv.zip\")\n",
        "zip_file = ZipFile(zip_path)\n",
        "zip_file.extractall()\n",
        "csv_path = \"jena_climate_2009_2016.csv\"\n",
        "\n",
        "df = pd.read_csv(csv_path)"
      ],
      "metadata": {
        "colab": {
          "base_uri": "https://localhost:8080/"
        },
        "id": "mNLSTg2hfNqD",
        "outputId": "dd84a836-06ed-480b-e09a-78ece0086d65"
      },
      "execution_count": 2,
      "outputs": [
        {
          "output_type": "stream",
          "name": "stdout",
          "text": [
            "Downloading data from https://storage.googleapis.com/tensorflow/tf-keras-datasets/jena_climate_2009_2016.csv.zip\n",
            "13574144/13568290 [==============================] - 0s 0us/step\n",
            "13582336/13568290 [==============================] - 0s 0us/step\n"
          ]
        }
      ]
    },
    {
      "cell_type": "code",
      "source": [
        "df.shape"
      ],
      "metadata": {
        "colab": {
          "base_uri": "https://localhost:8080/"
        },
        "id": "xMD85ogPflIx",
        "outputId": "0e5bc10a-0b6e-45d7-cc6f-a640cea83c49"
      },
      "execution_count": 4,
      "outputs": [
        {
          "output_type": "execute_result",
          "data": {
            "text/plain": [
              "(420551, 15)"
            ]
          },
          "metadata": {},
          "execution_count": 4
        }
      ]
    },
    {
      "cell_type": "code",
      "source": [
        "split_fraction = 0.715\n",
        "train_split = int(split_fraction * int(df.shape[0]))\n",
        "step = 6\n",
        "\n",
        "past = 720\n",
        "future = 72\n",
        "learning_rate = 0.001\n",
        "batch_size = 256\n",
        "epochs = 10\n",
        "\n",
        "\n",
        "def normalize(data, train_split):\n",
        "    data_mean = data[:train_split].mean(axis=0)\n",
        "    data_std = data[:train_split].std(axis=0)\n",
        "    return (data - data_mean) / data_std"
      ],
      "metadata": {
        "id": "bIqoW09DfnVB"
      },
      "execution_count": 5,
      "outputs": []
    },
    {
      "cell_type": "code",
      "source": [
        "print(\n",
        "    \"The selected parameters are:\",\n",
        "    \", \".join([titles[i] for i in [0, 1, 5, 7, 8, 10, 11]]),\n",
        ")\n",
        "selected_features = [feature_keys[i] for i in [0, 1, 5, 7, 8, 10, 11]]\n",
        "features = df[selected_features]\n",
        "features.index = df[date_time_key]\n",
        "features.head()\n",
        "\n",
        "features = normalize(features.values, train_split)\n",
        "features = pd.DataFrame(features)\n",
        "features.head()\n",
        "\n",
        "train_data = features.loc[0 : train_split - 1]\n",
        "val_data = features.loc[train_split:]"
      ],
      "metadata": {
        "colab": {
          "base_uri": "https://localhost:8080/"
        },
        "id": "iLV4dlvpgrix",
        "outputId": "c82ef5fa-6cdb-4302-fa2e-6f1aaafec4e5"
      },
      "execution_count": 7,
      "outputs": [
        {
          "output_type": "stream",
          "name": "stdout",
          "text": [
            "The selected parameters are: Pressure, Temperature, Saturation vapor pressure, Vapor pressure deficit, Specific humidity, Airtight, Wind speed\n"
          ]
        }
      ]
    },
    {
      "cell_type": "code",
      "source": [
        "train_data.shape"
      ],
      "metadata": {
        "colab": {
          "base_uri": "https://localhost:8080/"
        },
        "id": "iEuW5KhShP2_",
        "outputId": "3bac525a-baf8-4f73-8229-0a831e635e96"
      },
      "execution_count": 8,
      "outputs": [
        {
          "output_type": "execute_result",
          "data": {
            "text/plain": [
              "(300693, 7)"
            ]
          },
          "metadata": {},
          "execution_count": 8
        }
      ]
    },
    {
      "cell_type": "code",
      "source": [
        "val_data.shape"
      ],
      "metadata": {
        "colab": {
          "base_uri": "https://localhost:8080/"
        },
        "id": "VM_j4B6HhRvl",
        "outputId": "2ca3855a-8f45-46a0-bcf8-c518c9aa690c"
      },
      "execution_count": 9,
      "outputs": [
        {
          "output_type": "execute_result",
          "data": {
            "text/plain": [
              "(119858, 7)"
            ]
          },
          "metadata": {},
          "execution_count": 9
        }
      ]
    },
    {
      "cell_type": "code",
      "source": [
        ""
      ],
      "metadata": {
        "id": "e5p9mdjPhTRl"
      },
      "execution_count": null,
      "outputs": []
    }
  ]
}